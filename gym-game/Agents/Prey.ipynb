{
 "cells": [
  {
   "cell_type": "code",
   "execution_count": 1,
   "metadata": {},
   "outputs": [
    {
     "name": "stdout",
     "output_type": "stream",
     "text": [
      "Importing Jupyter notebook from ../Maths/Action.ipynb\n",
      "Importing Jupyter notebook from ../Maths/Cord.ipynb\n",
      "Importing Jupyter notebook from ../Maze/Maze.ipynb\n",
      "Importing Jupyter notebook from ../Agents/Agent.ipynb\n"
     ]
    }
   ],
   "source": [
    "import nbimporter\n",
    "import sys\n",
    "if('..' not in sys.path):\n",
    "    sys.path.insert(0,'..')\n",
    "from Maths.Action import Action\n",
    "from Maths.Cord import Cord\n",
    "from Maze.Maze import Maze\n",
    "from  Agents.Agent import Agent\n",
    "from abc import ABC, abstractmethod\n",
    "\n",
    "class Prey(Agent):\n",
    "    def __init__(self,stype, sid):\n",
    "        self.name=stype+str(sid)\n",
    "        self.TimeStep=0\n",
    "        self.moving=True\n",
    "    \n",
    "    def getPos(self):\n",
    "        return self.Pos\n",
    "    \n",
    "    def setPos(self, position):\n",
    "        self.Pos=position\n",
    "        \n",
    "    def setInitPos(self,position):\n",
    "        self.Pos=position\n",
    "        self.positions=[]\n",
    "        self.positions.append(self.Pos)\n",
    "        self.TimeStep=0\n",
    "        \n",
    "    def getName(self):\n",
    "        return self.name\n",
    "    \n",
    "    def getTime(self):\n",
    "        return self.TimeStep\n",
    "    \n",
    "    def MoveNorth(self, m):        \n",
    "        possible=False\n",
    "        newPos=Cord(self.Pos.X,self.Pos.Y+1)\n",
    "        #print(\"\\t\",self.name,\" : \",self.Pos.CordToString(),\" > Moving North > \", newPos.CordToString())\n",
    "        if(m.CheckClear(newPos)):\n",
    "            self.Pos=newPos\n",
    "            self.positions.append(self.Pos)\n",
    "            #print(\"Appending \",self.Pos.CordToString())\n",
    "            self.TimeStep+=1\n",
    "            return True\n",
    "        return possible\n",
    "    \n",
    "    def MoveSouth(self, m):\n",
    "        possible=False\n",
    "        newPos=Cord(self.Pos.X,self.Pos.Y-1)\n",
    "        #print(\"\\t\",self.name,\" : \",self.Pos.CordToString(),\" > Moving South > \", newPos.CordToString())\n",
    "        if(m.CheckClear(newPos)):\n",
    "            self.Pos=newPos\n",
    "            self.positions.append(self.Pos)\n",
    "            #print(\"Appending \",self.Pos.CordToString())\n",
    "            self.TimeStep+=1\n",
    "            return True\n",
    "        return possible\n",
    "    \n",
    "    def MoveEast(self, m):\n",
    "        possible=False\n",
    "        newPos=Cord(self.Pos.X+1,self.Pos.Y)\n",
    "        #print(\"\\t\",self.name,\" : \",self.Pos.CordToString(),\" > Moving East > \", newPos.CordToString())\n",
    "        if(m.CheckClear(newPos)):\n",
    "            self.Pos=newPos\n",
    "            self.positions.append(self.Pos)\n",
    "            #print(\"Appending \",self.Pos.CordToString())\n",
    "            self.TimeStep+=1\n",
    "            return True\n",
    "        return possible\n",
    "    \n",
    "    def MoveWest(self, m):\n",
    "        possible=False\n",
    "        newPos=Cord(self.Pos.X-1,self.Pos.Y)\n",
    "        #print(\"\\t\",self.name,\" : \",self.Pos.CordToString(),\" > Moving West > \", newPos.CordToString())\n",
    "        if(m.CheckClear(newPos)):\n",
    "            self.Pos=newPos\n",
    "            self.positions.append(self.Pos)\n",
    "            #print(\"Appending \",self.Pos.CordToString())\n",
    "            self.TimeStep+=1\n",
    "            return True\n",
    "        return possible\n",
    "    \n",
    "    def StayStill(self, m):\n",
    "        possible=False\n",
    "        newPos=Cord(self.Pos.X,self.Pos.Y)\n",
    "        #print(\"\\t\", self.name,\" : \",self.Pos.CordToString(),\" > Staying Still > \", newPos.CordToString())\n",
    "        if(m.CheckClear(newPos)):\n",
    "            self.Pos=newPos\n",
    "            self.positions.append(self.Pos)\n",
    "            #print(\"Appending \",self.Pos.CordToString())\n",
    "            self.TimeStep+=1\n",
    "            return True\n",
    "        return possible\n",
    "    \n",
    "    def getHistory(self):\n",
    "        return self.positions\n",
    "    \n",
    "    def stop(self):\n",
    "        moving=False\n",
    "        print(self.name,+\" not moving anymore\")\n",
    "        \n",
    "    def getState(self):\n",
    "        return self.moving"
   ]
  },
  {
   "cell_type": "code",
   "execution_count": 2,
   "metadata": {},
   "outputs": [
    {
     "data": {
      "text/plain": [
       "'(3, 5)'"
      ]
     },
     "execution_count": 2,
     "metadata": {},
     "output_type": "execute_result"
    }
   ],
   "source": [
    "p=Prey(\"Worker\",0)\n",
    "c1=Cord(3,5)\n",
    "p.setInitPos(c1)\n",
    "p.getPos().CordToString()"
   ]
  },
  {
   "cell_type": "code",
   "execution_count": null,
   "metadata": {},
   "outputs": [],
   "source": []
  }
 ],
 "metadata": {
  "kernelspec": {
   "display_name": "Python 3",
   "language": "python",
   "name": "python3"
  },
  "language_info": {
   "codemirror_mode": {
    "name": "ipython",
    "version": 3
   },
   "file_extension": ".py",
   "mimetype": "text/x-python",
   "name": "python",
   "nbconvert_exporter": "python",
   "pygments_lexer": "ipython3",
   "version": "3.6.6"
  }
 },
 "nbformat": 4,
 "nbformat_minor": 2
}
