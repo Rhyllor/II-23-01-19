{
 "cells": [
  {
   "cell_type": "code",
   "execution_count": 1,
   "metadata": {},
   "outputs": [
    {
     "name": "stdout",
     "output_type": "stream",
     "text": [
      "Importing Jupyter notebook from /home/esha/anaconda3/Scripts/gym-game/Agents/Worker.ipynb\n",
      "Importing Jupyter notebook from /home/esha/anaconda3/Scripts/gym-game/Maths/Action.ipynb\n",
      "Importing Jupyter notebook from /home/esha/anaconda3/Scripts/gym-game/Maths/State.ipynb\n",
      "Importing Jupyter notebook from /home/esha/anaconda3/Scripts/gym-game/Maths/Cord.ipynb\n",
      "Importing Jupyter notebook from /home/esha/anaconda3/Scripts/gym-game/Maze/Maze.ipynb\n",
      "Importing Jupyter notebook from /home/esha/anaconda3/Scripts/gym-game/Agents/Prey.ipynb\n",
      "Importing Jupyter notebook from /home/esha/anaconda3/Scripts/gym-game/Agents/Agent.ipynb\n",
      "Importing Jupyter notebook from /home/esha/anaconda3/Scripts/gym-game/Main/Simulator.ipynb\n",
      "Importing Jupyter notebook from /home/esha/anaconda3/Scripts/gym-game/Windows/MainWindow.ipynb\n"
     ]
    }
   ],
   "source": [
    "import nbimporter\n",
    "import sys\n",
    "if('..' not in sys.path):\n",
    "    sys.path.insert(0,'..')\n",
    "\n",
    "\n",
    "from Agents.Worker import Worker\n",
    "from Maze.Maze import Maze\n",
    "from Maths.Cord import Cord\n",
    "from Main.Simulator import Simulator\n",
    "\n",
    "def runBaseLine(prey):\n",
    "    maze= Maze(\"Test,10,10,0,4,9,4,1111211111100000000111100110011000000001100001111111011000111000000001100101010110000000011111311111\")\n",
    "    s=Simulator(maze)\n",
    "    for i in range(0,prey):\n",
    "        p=Worker(maze)\n",
    "        s.add(p)\n",
    "    s.printState()"
   ]
  },
  {
   "cell_type": "code",
   "execution_count": 2,
   "metadata": {},
   "outputs": [
    {
     "name": "stdout",
     "output_type": "stream",
     "text": [
      "State of the system\n",
      "Worker0   (0, 4)   :  (0,4)   at Time:  0\n"
     ]
    }
   ],
   "source": [
    "runBaseLine(1)"
   ]
  },
  {
   "cell_type": "code",
   "execution_count": 4,
   "metadata": {},
   "outputs": [
    {
     "name": "stdout",
     "output_type": "stream",
     "text": [
      "yes\n"
     ]
    }
   ],
   "source": []
  },
  {
   "cell_type": "code",
   "execution_count": null,
   "metadata": {},
   "outputs": [],
   "source": []
  }
 ],
 "metadata": {
  "kernelspec": {
   "display_name": "Python 3",
   "language": "python",
   "name": "python3"
  },
  "language_info": {
   "codemirror_mode": {
    "name": "ipython",
    "version": 3
   },
   "file_extension": ".py",
   "mimetype": "text/x-python",
   "name": "python",
   "nbconvert_exporter": "python",
   "pygments_lexer": "ipython3",
   "version": "3.6.6"
  }
 },
 "nbformat": 4,
 "nbformat_minor": 2
}
