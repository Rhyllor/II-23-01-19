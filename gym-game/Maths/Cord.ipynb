{
 "cells": [
  {
   "cell_type": "code",
   "execution_count": 6,
   "metadata": {},
   "outputs": [],
   "source": [
    "class Cord:\n",
    "    \n",
    "    def __init__(self,x,y):\n",
    "        self.X = x\n",
    "        self.Y = y\n",
    "        \n",
    "    def equals(self,A):\n",
    "        result=False;\n",
    "        if(self.X==A.X and self.Y==A.Y):\n",
    "            result=True\n",
    "        return result\n",
    "    \n",
    "    \n",
    "    def __hash__(self):\n",
    "        return hash((self.X, self.Y))\n",
    "\n",
    "    def __eq__(self, other):\n",
    "        return (self.X, self.Y) == (other.X, other.Y)\n",
    "\n",
    "    def CordToString(self):\n",
    "        return \"(\"+str(self.X)+\",\"+str(self.Y)+\")\"\n",
    "    \n"
   ]
  }
 ],
 "metadata": {
  "kernelspec": {
   "display_name": "Python 3",
   "language": "python",
   "name": "python3"
  },
  "language_info": {
   "codemirror_mode": {
    "name": "ipython",
    "version": 3
   },
   "file_extension": ".py",
   "mimetype": "text/x-python",
   "name": "python",
   "nbconvert_exporter": "python",
   "pygments_lexer": "ipython3",
   "version": "3.6.6"
  }
 },
 "nbformat": 4,
 "nbformat_minor": 2
}
