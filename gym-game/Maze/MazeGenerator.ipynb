{
 "cells": [
  {
   "cell_type": "code",
   "execution_count": 18,
   "metadata": {},
   "outputs": [],
   "source": [
    "import random\n",
    "import nbimporter\n",
    "import string\n",
    "import numpy as np\n",
    "import sys\n",
    "if('..' not in sys.path):\n",
    "    sys.path.insert(0,'..')\n",
    "from Maze.Maze import Maze\n",
    "\n",
    "    \n",
    "def MazeGenerator():\n",
    "    width=10\n",
    "    height=10\n",
    "    name=\"\".join(random.choice(string.ascii_uppercase + string.digits) for _ in range(10))\n",
    "    mazeString=list(\"1\"*width*height)\n",
    "    EntranceY=random.randint(1,width-1)\n",
    "    ExitY=random.randint(1,width-1)\n",
    "    #print(EntranceY, ExitY)\n",
    "    mazeString[EntranceY]='2'\n",
    "    mazeString[width*(height-1)+ExitY]='3'\n",
    "    maze=name+\",\"+str(width)+\",\"+str(height)+\",0,\"+str(EntranceY)+\",\"+str(height-1)+\",\"+str(ExitY)+\",\"+\"\".join(mazeString)\n",
    "       \n",
    "    m=Maze(maze)\n",
    "    #m.printMaze()\n",
    "    #print(\" \")\n",
    "    routes=m.GetOptimalRoute()\n",
    "    notPossible=True\n",
    "    while notPossible:\n",
    "        choices=set()\n",
    "        for index in range(0,width*height):\n",
    "            if (mazeString[index]=='1'):\n",
    "                choices.add(index)\n",
    "        choice=random.sample(choices,1)\n",
    "        mazeString[choice[0]]='0'\n",
    "        maze=name+\",\"+str(width)+\",\"+str(height)+\",0,\"+str(EntranceY)+\",\"+str(height-1)+\",\"+str(ExitY)+\",\"+\"\".join(mazeString)\n",
    "       \n",
    "        m=Maze(maze)\n",
    "        routes=m.GetOptimalRoute()\n",
    "        if(len(routes[0])!=0):\n",
    "            #print(\"\\n Route!\")\n",
    "            notPossible=False\n",
    "        #else:\n",
    "        #print(\"No\")\n",
    "    #m.printMaze()\n",
    "    #routes=m.GetOptimalRoute()\n",
    "    #print(\" \")\n",
    "    #m.printRoute(routes[0])\n",
    "    #print(maze)\n",
    "    return maze"
   ]
  },
  {
   "cell_type": "code",
   "execution_count": 19,
   "metadata": {},
   "outputs": [],
   "source": [
    "m=MazeGenerator()"
   ]
  },
  {
   "cell_type": "code",
   "execution_count": null,
   "metadata": {},
   "outputs": [],
   "source": []
  },
  {
   "cell_type": "code",
   "execution_count": null,
   "metadata": {},
   "outputs": [],
   "source": []
  }
 ],
 "metadata": {
  "kernelspec": {
   "display_name": "Python 3",
   "language": "python",
   "name": "python3"
  },
  "language_info": {
   "codemirror_mode": {
    "name": "ipython",
    "version": 3
   },
   "file_extension": ".py",
   "mimetype": "text/x-python",
   "name": "python",
   "nbconvert_exporter": "python",
   "pygments_lexer": "ipython3",
   "version": "3.6.6"
  }
 },
 "nbformat": 4,
 "nbformat_minor": 2
}
