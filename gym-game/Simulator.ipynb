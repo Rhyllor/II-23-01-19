{
 "cells": [
  {
   "cell_type": "code",
   "execution_count": 1,
   "metadata": {},
   "outputs": [
    {
     "name": "stdout",
     "output_type": "stream",
     "text": [
      "Importing Jupyter notebook from /home/esha/anaconda3/Scripts/gym-game/Windows/MainWindow.ipynb\n",
      "Importing Jupyter notebook from /home/esha/anaconda3/Scripts/gym-game/Maze/Maze.ipynb\n",
      "Importing Jupyter notebook from /home/esha/anaconda3/Scripts/gym-game/Maths/Cord.ipynb\n"
     ]
    }
   ],
   "source": [
    "import nbimporter\n",
    "import sys\n",
    "if('..' not in sys.path):\n",
    "    sys.path.insert(0,'..')\n",
    "from Windows.MainWindow import MainWindow\n",
    "from Maze.Maze import Maze\n",
    "from Maths.Cord import Cord\n",
    "\n",
    "class Simulator:\n",
    "    \n",
    "    agents=[]\n",
    "    \n",
    "    def __init__(self, maze):\n",
    "        self.m=maze\n",
    "        MainWindow(self.m,Simulator.agents,0) #need to add\n",
    "    \n",
    "    def add(self, agent):\n",
    "        initialPosition= Cord(self.m.getInitialX(),self.m.getInitialY())\n",
    "        agent.setInitPos(initialPosition)\n",
    "        Simulator.agents.append(agent)\n",
    "    \n",
    "    def printState(self):\n",
    "        print(\"State of the system\")\n",
    "        for a in Simulator.agents:\n",
    "            value=a.getHistory()\n",
    "            states=\"\"\n",
    "            for stateHistory in value:\n",
    "                states+=\"(\"+str(stateHistory.X)+\", \"+str(stateHistory.Y)+\") \"\n",
    "            print(a.getName(),\" \",states,\" : \",a.getPos().CordToString(),\" at Time: \",a.getTime())"
   ]
  }
 ],
 "metadata": {
  "kernelspec": {
   "display_name": "Python 3",
   "language": "python",
   "name": "python3"
  },
  "language_info": {
   "codemirror_mode": {
    "name": "ipython",
    "version": 3
   },
   "file_extension": ".py",
   "mimetype": "text/x-python",
   "name": "python",
   "nbconvert_exporter": "python",
   "pygments_lexer": "ipython3",
   "version": "3.6.6"
  }
 },
 "nbformat": 4,
 "nbformat_minor": 2
}
